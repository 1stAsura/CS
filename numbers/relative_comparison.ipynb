{
 "cells": [
  {
   "cell_type": "markdown",
   "metadata": {},
   "source": [
    "## relativie error = fabs(a-b)/max(fabs(a), fabs(b))"
   ]
  },
  {
   "cell_type": "code",
   "execution_count": 1,
   "metadata": {},
   "outputs": [],
   "source": [
    "a=0.1*3\n",
    "b=0.3"
   ]
  },
  {
   "cell_type": "markdown",
   "metadata": {},
   "source": [
    "## 만약에 두 수의 차이(fabs)가 1e-10 작거나 같으면 True\n",
    "## 두수의 차이가 절대값을 취한 두 수 중에서 큰 수에 1e-8를 곱한 값보다 작거나 같다면 True\n",
    "## 아니면 False"
   ]
  },
  {
   "cell_type": "code",
   "execution_count": 20,
   "metadata": {},
   "outputs": [],
   "source": [
    "from math import fabs\n",
    "import sys\n",
    "def is_equal(a, b, w=0):\n",
    "    \"\"\"\n",
    "    is_equal(a, b, w=0)->bool\n",
    "    w는 가중치입니다. \n",
    "    w를 0부터 늘려가며 상대 오차 범위를 조정해주세요.\n",
    "    \"\"\"\n",
    "    ep=sys.float_info.epsilon\n",
    "    diff=fabs(a-b)\n",
    "    \n",
    "    return diff <= max(fabs(a), fabs(b))*ep*(2**w)"
   ]
  },
  {
   "cell_type": "code",
   "execution_count": 10,
   "metadata": {},
   "outputs": [
    {
     "name": "stdout",
     "output_type": "stream",
     "text": [
      "things\n"
     ]
    }
   ],
   "source": [
    "if is_equal(a, b):\n",
    "    print('things')"
   ]
  },
  {
   "cell_type": "code",
   "execution_count": 11,
   "metadata": {},
   "outputs": [],
   "source": [
    "s=0.0\n",
    "a=0.01\n",
    "t=1.0"
   ]
  },
  {
   "cell_type": "code",
   "execution_count": 12,
   "metadata": {},
   "outputs": [],
   "source": [
    "for _ in range(100):\n",
    "    s+=a"
   ]
  },
  {
   "cell_type": "code",
   "execution_count": 19,
   "metadata": {},
   "outputs": [
    {
     "name": "stdout",
     "output_type": "stream",
     "text": [
      "things\n"
     ]
    }
   ],
   "source": [
    "if is_equal(s, t, 2):\n",
    "    print('things')"
   ]
  },
  {
   "cell_type": "code",
   "execution_count": 21,
   "metadata": {},
   "outputs": [
    {
     "name": "stdout",
     "output_type": "stream",
     "text": [
      "Help on function is_equal in module __main__:\n",
      "\n",
      "is_equal(a, b, w=0)\n",
      "    is_equal(a, b, w=0)->bool\n",
      "    w는 가중치입니다. \n",
      "    w를 0부터 늘려가며 상대 오차 범위를 조정해주세요.\n",
      "\n"
     ]
    }
   ],
   "source": [
    "help(is_equal)"
   ]
  },
  {
   "cell_type": "code",
   "execution_count": 22,
   "metadata": {},
   "outputs": [
    {
     "name": "stdout",
     "output_type": "stream",
     "text": [
      "Help on built-in function max in module builtins:\n",
      "\n",
      "max(...)\n",
      "    max(iterable, *[, default=obj, key=func]) -> value\n",
      "    max(arg1, arg2, *args, *[, key=func]) -> value\n",
      "    \n",
      "    With a single iterable argument, return its biggest item. The\n",
      "    default keyword-only argument specifies an object to return if\n",
      "    the provided iterable is empty.\n",
      "    With two or more arguments, return the largest argument.\n",
      "\n"
     ]
    }
   ],
   "source": [
    "help(max)"
   ]
  },
  {
   "cell_type": "code",
   "execution_count": null,
   "metadata": {},
   "outputs": [],
   "source": []
  }
 ],
 "metadata": {
  "kernelspec": {
   "display_name": "Python 3",
   "language": "python",
   "name": "python3"
  },
  "language_info": {
   "codemirror_mode": {
    "name": "ipython",
    "version": 3
   },
   "file_extension": ".py",
   "mimetype": "text/x-python",
   "name": "python",
   "nbconvert_exporter": "python",
   "pygments_lexer": "ipython3",
   "version": "3.6.1"
  }
 },
 "nbformat": 4,
 "nbformat_minor": 2
}
